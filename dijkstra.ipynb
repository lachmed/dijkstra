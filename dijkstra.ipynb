{
  "nbformat": 4,
  "nbformat_minor": 0,
  "metadata": {
    "colab": {
      "name": "dijkstra.ipynb",
      "provenance": [],
      "collapsed_sections": [],
      "authorship_tag": "ABX9TyP/7NR5XSnsCyov2MrgC8c+",
      "include_colab_link": true
    },
    "kernelspec": {
      "name": "python3",
      "display_name": "Python 3"
    },
    "language_info": {
      "name": "python"
    }
  },
  "cells": [
    {
      "cell_type": "markdown",
      "metadata": {
        "id": "view-in-github",
        "colab_type": "text"
      },
      "source": [
        "<a href=\"https://colab.research.google.com/github/lachmed/dijkstra/blob/master/dijkstra.ipynb\" target=\"_parent\"><img src=\"https://colab.research.google.com/assets/colab-badge.svg\" alt=\"Open In Colab\"/></a>"
      ]
    },
    {
      "cell_type": "code",
      "execution_count": null,
      "metadata": {
        "colab": {
          "base_uri": "https://localhost:8080/"
        },
        "id": "euxC5j8pOxHG",
        "outputId": "a508d8f8-6812-46ff-bd3b-4baf98562ba7"
      },
      "outputs": [
        {
          "output_type": "stream",
          "name": "stdout",
          "text": [
            "Valeur min 6\n",
            "chemin optimal: A ---> B ---> D ---> G\n"
          ]
        }
      ],
      "source": [
        "\"\"\"\n",
        "the graph is a text file in this format:\n",
        "\n",
        "source destNode1 cost\n",
        "source destNode1 cost\n",
        "destNode1 destNode2 cost \n",
        ".\n",
        ".\n",
        ".\n",
        "destination destination 0\n",
        "\n",
        "\"\"\"\n",
        "\n",
        "\n",
        "\n",
        "def getData(chemin):\n",
        "  fd = open(chemin,\"r\")\n",
        "  lines = fd.readlines()\n",
        "\n",
        "  n = int((lines[0].split('\\n'))[0])\n",
        "  graphe = dict()\n",
        "\n",
        "  fd.close()\n",
        "  for i in range(1,len(lines)):\n",
        "    l=(lines[i].split('\\n'))[0].split(\" \")\n",
        "    if str(l[0]) not in graphe.keys():\n",
        "      graphe[str(l[0])]=[(str(l[1]),int(l[2]))]\n",
        "    else:\n",
        "      graphe[str(l[0])].append((str(l[1]),int(l[2])))\n",
        "    \n",
        "\n",
        "\n",
        "  \n",
        "  return (graphe,n)\n",
        "\n",
        "def dijkstra(chemin):\n",
        "  graphe,n = getData(chemin)\n",
        "  \n",
        "  listCalculs= [100000]*n\n",
        "  listSources = [None]*n\n",
        "  listCalculs[0]=0\n",
        "  visited = []\n",
        "  listSommets= list(graphe.keys())\n",
        "\n",
        "  cpt=0\n",
        "  while cpt<n-1:\n",
        "    flag = True\n",
        "    tmp = listCalculs[:]\n",
        "    while flag:\n",
        "      indice = listCalculs.index(min(tmp))\n",
        "      if listSommets[indice] in visited:\n",
        "        tmp.remove(min(tmp))\n",
        "      else:\n",
        "        visited.append(listSommets[indice])\n",
        "        flag=False\n",
        "\n",
        "    destinations = graphe[listSommets[indice]]\n",
        "    valA = listCalculs[indice]\n",
        "    for d in destinations:\n",
        "      if valA + d[1] < listCalculs[listSommets.index(d[0])]:\n",
        "        listCalculs[listSommets.index(d[0])] = valA + d[1]\n",
        "        listSources[listSommets.index(d[0])]=listSommets[indice]\n",
        "    cpt+=1\n",
        "\n",
        "  print(\"Valeur min\", listCalculs[n-1])\n",
        "  cheminMin = \"\"\n",
        "  cheminMin = str(listSommets[n-1]) + cheminMin \n",
        "  cpt = n-1\n",
        "  while cpt > 0:\n",
        "      cheminMin = str(listSources[cpt])+ \" ---> \" + cheminMin \n",
        "      cpt = listSommets.index(listSources[cpt])\n",
        "  \n",
        "\n",
        "  print(\"chemin optimal:\", cheminMin)\n",
        "  \n",
        "      \n",
        "      \n",
        "     \n",
        "\n",
        "\n",
        "\n",
        "\n",
        "dijkstra(\"./test.txt\")\n"
      ]
    }
  ]
}